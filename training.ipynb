{
  "nbformat": 4,
  "nbformat_minor": 0,
  "metadata": {
    "colab": {
      "provenance": []
    },
    "kernelspec": {
      "name": "python3",
      "display_name": "Python 3"
    },
    "language_info": {
      "name": "python"
    }
  },
  "cells": [
    {
      "cell_type": "code",
      "execution_count": 1,
      "metadata": {
        "id": "hVsPl5yekwMp"
      },
      "outputs": [],
      "source": [
        "import numpy as np\n",
        "import pandas as pd\n",
        "import tensorflow as tf\n",
        "from sklearn.preprocessing import LabelEncoder, StandardScaler\n"
      ]
    },
    {
      "cell_type": "code",
      "source": [
        "import numpy as np\n",
        "import pandas as pd\n",
        "import tensorflow as tf\n",
        "from sklearn.preprocessing import LabelEncoder, StandardScaler\n",
        "# Instead of importing 'mean_squared_error' directly, import 'MSE'\n",
        "from tensorflow.keras.losses import MSE  # Import MSE\n",
        "\n",
        "# Load the trained model, providing 'mse' as a custom object\n",
        "# Use 'MSE' instead of 'mean_squared_error' here as well\n",
        "model = tf.keras.models.load_model(\"data_model.h5\", custom_objects={'mse': MSE})"
      ],
      "metadata": {
        "colab": {
          "base_uri": "https://localhost:8080/"
        },
        "id": "JeNfRWEnlIXV",
        "outputId": "0b650baa-1eaf-4388-db5f-baaa9b3c7829"
      },
      "execution_count": 5,
      "outputs": [
        {
          "output_type": "stream",
          "name": "stderr",
          "text": [
            "WARNING:absl:Compiled the loaded model, but the compiled metrics have yet to be built. `model.compile_metrics` will be empty until you train or evaluate the model.\n"
          ]
        }
      ]
    },
    {
      "cell_type": "code",
      "source": [
        "# Load dataset to ensure consistent preprocessing logic\n",
        "data = pd.read_csv(\"synthetic_diet_dataset.csv\")"
      ],
      "metadata": {
        "id": "2J5dtbfalL7M"
      },
      "execution_count": 6,
      "outputs": []
    },
    {
      "cell_type": "code",
      "source": [
        "# Recreate label encoders for categorical variables\n",
        "le_gender = LabelEncoder()\n",
        "le_goal = LabelEncoder()\n",
        "le_activity = LabelEncoder()\n",
        "le_diet_plan = LabelEncoder()\n",
        "le_food_items = LabelEncoder()\n"
      ],
      "metadata": {
        "id": "VMNzrbg2l2Hj"
      },
      "execution_count": 7,
      "outputs": []
    },
    {
      "cell_type": "code",
      "source": [
        "data[\"Gender\"] = le_gender.fit_transform(data[\"Gender\"])\n",
        "data[\"Goal\"] = le_goal.fit_transform(data[\"Goal\"])\n",
        "data[\"Activity_Level\"] = le_activity.fit_transform(data[\"Activity_Level\"])\n",
        "data[\"Diet_Plan\"] = le_diet_plan.fit_transform(data[\"Diet_Plan\"])\n",
        "data[\"Food_Items\"] = le_food_items.fit_transform(data[\"Food_Items\"])"
      ],
      "metadata": {
        "id": "ilRRCdY2l6Aj"
      },
      "execution_count": 8,
      "outputs": []
    },
    {
      "cell_type": "code",
      "source": [
        "# Recreate the scaler for numerical features\n",
        "scaler = StandardScaler()\n",
        "data[[\"Weight\", \"Height\", \"Age\"]] = scaler.fit_transform(data[[\"Weight\", \"Height\", \"Age\"]])"
      ],
      "metadata": {
        "id": "y3E1wlTRl9Hn"
      },
      "execution_count": 9,
      "outputs": []
    },
    {
      "cell_type": "code",
      "source": [
        "# Prediction function\n",
        "def predict_diet_plan(weight, height, age, gender, goal, activity_level):\n",
        "    # Encode categorical inputs\n",
        "    gender_encoded = le_gender.transform([gender])[0]\n",
        "    goal_encoded = le_goal.transform([goal])[0]\n",
        "    activity_encoded = le_activity.transform([activity_level])[0]\n",
        "\n",
        "    # Scale numerical inputs\n",
        "    scaled_features = scaler.transform([[weight, height, age]])\n",
        "\n",
        "    # Combine all inputs\n",
        "    inputs = np.array([[scaled_features[0][0], scaled_features[0][1], scaled_features[0][2], gender_encoded, goal_encoded, activity_encoded]])\n",
        "\n",
        "    # Make predictions\n",
        "    predictions = model.predict(inputs)\n",
        "\n",
        "    # Decode predictions\n",
        "    water_intake = round(predictions[0][0], 2)\n",
        "    protein_intake = round(predictions[0][1], 2)\n",
        "    diet_plan = le_diet_plan.inverse_transform([int(round(predictions[0][2]))])[0]\n",
        "    food_items = le_food_items.inverse_transform([int(round(predictions[0][3]))])[0]\n",
        "\n",
        "    return {\n",
        "        \"Water Intake (L/day)\": water_intake,\n",
        "        \"Protein Intake (g/day)\": protein_intake,\n",
        "        \"Diet Plan\": diet_plan,\n",
        "        \"Food Items\": food_items\n",
        "    }"
      ],
      "metadata": {
        "id": "kOfHowJQmAQH"
      },
      "execution_count": 20,
      "outputs": []
    },
    {
      "cell_type": "code",
      "source": [],
      "metadata": {
        "id": "qcQBXSOWn7KJ"
      },
      "execution_count": null,
      "outputs": []
    }
  ]
}